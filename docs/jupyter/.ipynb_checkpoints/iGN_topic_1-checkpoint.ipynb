{
 "cells": [
  {
   "cell_type": "markdown",
   "metadata": {},
   "source": [
    "Engi 9981 Guidance Navigation and Control\n",
    "\n",
    "\n",
    "# Mathematical Preliminaries\n",
    "\n",
    "This topics reviews the mathematical background and introduces the notations used in these notes.\n",
    "\n",
    "\n",
    "## Vectors & Frames\n",
    "\n",
    "* A vector $\\mathbf{p}\\in \\mathbb{R}^3$ is a mathematical object that can be used to represent a magnitude given by $||\\mathbf{p}||$ and a 3 dimensional direction given by $\\vec{\\mathbf{p}}=\\mathbf{p}/||\\mathbf{p}||$, where operator $||\\cdot||$ is the norm of a vector and unit vectors are denoted using $\\vec{\\cdot}$ notation.\n",
    "* Vectors can be used to represent different physical quantities. e.g., position $\\mathbf{p}$, velocity $\\mathbf{v}$, angular velocity $\\boldsymbol{\\omega}$ are typically denoted using 3 dimensional column vectors.\n",
    "* We can denote the position of point $b$ relative to point $a$ using subscripts of a position vector $\\mathbf{p}_{ab}$. Similarly, we can denote the velocity of point $b$ relative to point $a$ using subscripts of a velocity vector $\\mathbf{v}_{ab}$.\n",
    "\n",
    "\n",
    "* Scalar multiplication of a vector scales the magnitude of the vector, where \n",
    "\\begin{equation}\n",
    "\\begin{array}{c}\n",
    "||s\\mathbf{p}||=s||\\mathbf{p}|| \\\\\n",
    "\\vec{s\\mathbf{p}}=\\vec{\\mathbf{p}}\n",
    "\\end{array}\n",
    "\\end{equation}.\n",
    "\n",
    "* Addition of the vectors follow the triangle rule, where \n",
    "\\begin{equation}\n",
    "\\mathbf{p}_{ac}=\\mathbf{p}_{ab}+\\mathbf{p}_{bc}\n",
    "\\end{equation}.\n",
    "\n",
    "* The projected length of vector $\\mathbf{a}$ in the direction of vector $\\mathbf{b}$ is given by the dot product $\\mathbf{a}^T\\vec{\\mathbf{b}}$. The dot product is defined as follows where $\\theta$ is the angle between the two vectors.\n",
    "\n",
    "\\begin{equation}\n",
    "\\mathbf{a}^T\\mathbf{b}=||\\mathbf{a}|||\\mathbf{b}||cos\\theta\n",
    "\\end{equation}.\n",
    "\n",
    "* The cross product between the same two vectors produces a vector perpendicular to $\\mathbf{a}$ and $\\mathbf{b}$ having a length of $||\\mathbf{a}||||\\mathbf{b}||sin\\theta$. The cross product is defined as follows where $\\vec{\\mathbf{n}}$ is the normal vector direction $\\vec{\\mathbf{a}}\\times \\vec{\\mathbf{b}}$.\n",
    "\n",
    "\\begin{equation}\n",
    "\\mathbf{a}\\times \\mathbf{b}=||\\mathbf{a}|||\\mathbf{b}||sin\\theta~ \\vec{\\mathbf{n}}\n",
    "\\end{equation},\n"
   ]
  },
  {
   "cell_type": "code",
   "execution_count": 4,
   "metadata": {
    "hide_input": true,
    "nbsphinx": "hidden",
    "remove_input_tags": true
   },
   "outputs": [
    {
     "data": {
      "image/png": "[encoded data removed]",
      "text/plain": [
       "<Figure size 432x288 with 1 Axes>"
      ]
     },
     "metadata": {
      "needs_background": "light"
     },
     "output_type": "display_data"
    }
   ],
   "source": [
    "%matplotlib inline\n",
    "import numpy as np\n",
    "import matplotlib.pyplot as plt\n",
    "\n",
    "V = np.array([[3,1],[1,3],[4,4]]) # vectors\n",
    "origin = [0,3,0], [0,1,0] # origin point\n",
    "ax =plt.gca()\n",
    "ax.set_xlim([-1,5])\n",
    "ax.set_ylim([-1,5])\n",
    "plt.quiver(*origin, V[:,0], V[:,1],angles='xy',scale_units='xy', color=['r','b','y'], scale=1)\n",
    "\n",
    "plt.text(2.0,0.2,r'$\\mathbf{p}_{ab}$',fontsize=24,color='r')\n",
    "plt.text(3.5,2.0,r'$\\mathbf{p}_{bc}$',fontsize=24,color='b')\n",
    "plt.text(2.0,2.8,r'$\\mathbf{p}_{ac}$',fontsize=24,color='y')\n",
    "plt.draw()\n",
    "plt.show()"
   ]
  },
  {
   "cell_type": "markdown",
   "metadata": {},
   "source": [
    "\n",
    "\n",
    "* Three perpendicular unit vectors $\\vec{\\mathbf{x}},\\vec{\\mathbf{y}},\\vec{\\mathbf{z}}$ arranged in a right handed coordinate system, i.e.,  $\\vec{\\mathbf{x}}\\times\\vec{\\mathbf{y}}=\\vec{\\mathbf{z}}$ defines a coordinate frame.\n",
    "* A coordinate frame labeled W is defined using notation $\\{W\\}$ and can be identified as objects of group $\\mathbb{SE(3)}$.\n",
    "* The pose between two reference frames $\\{W\\}$ and $\\{B\\}$ can be represented using a position vector $^w\\mathbf{p}_{wb}\\in R^3$ and a rotation matrix $^w\\mathbf{R}_b\\in\\mathbb{SO(3)}$.\n",
    "\n",
    "* The vector $^w\\mathbf{p}_{wb}$ should be read as the location of $\\{B\\}$ relative to $\\{W\\}$ expressed in frame $\\{W\\}$. The vector represents the location of the origin of $\\{B\\}$  relative to origin of $\\{W\\}$ when measured along the principal axis of $\\{W\\}$ .\n",
    "\n",
    "* The rotation matrix  $^w\\mathbf{R}_b$ should be read as the orientation of frame $\\{B\\}$ expressed in $\\{W\\}$. Rotation matrices have several unique properties. \n",
    "\n",
    "\n",
    "## Rotation matrices \n",
    "\n",
    "\n",
    "1. The rotation matrix $^w\\mathbf{R}_b$ allows to rotate vectors from frame $\\{B\\}$  to frame $\\{W\\}$. i.e. given a vector $\\textbf{p}_{wb}^b$  expressed in frame $\\{B\\}$, we can find the vector $\\mathbf{p}_{wb}^w$ as follows:\n",
    "\n",
    "\\begin{equation}\n",
    "^w\\mathbf{p}_{wb}= ~^w\\mathbf{R}_b ~^b\\mathbf{p}_{wb}\n",
    "\\end{equation}\n",
    "\n",
    "2. For three dimensional rotations, rotation matrices have a dimension of $3 \\times 3$.\n",
    "\n",
    "3. Matrix inverse of a rotation matrix ${\\mathbf{R}_o^w}^{-1}$ is equal to $\\mathbf{R}_w^o$ ,i.e., denotes the rotation of a follower frame $\\{W\\}$ w.r.t. a base frame $\\{O\\}$.\n",
    "\n",
    "4. Rotation matrices are orthogonal.\n",
    "\\begin{equation}\n",
    "{\\mathbf{R}_o^w}^T={\\mathbf{R}_o^w}^{-1}\n",
    "\\end{equation}\n",
    "\n",
    "5. Right-hand rule can be used to find the positive direction of rotation. i.e., CCW rotation about an axis is positive.\n",
    "\n",
    "6. Rotations about the principal axis' follows a predictable pattern.\n",
    "\n",
    "\\begin{equation}\n",
    "\\begin{array}{c c}\n",
    "Rot(x, \\psi)=\\begin{bmatrix} 1 & 0 &0\\\\ 0  &  \\cos \\psi  &-\\sin \\psi\\\\ 0 &\\sin \\psi  &\\cos \\psi \\end{bmatrix}&\n",
    "Rot(y, \\theta)=\\begin{bmatrix} \\cos \\theta &0 & \\sin \\theta \\\\ 0 &1 &0\\\\-\\sin \\theta &0 &  \\cos \\theta \\end{bmatrix}\\\\\n",
    "Rot(z, \\phi)=\\begin{bmatrix} \\cos \\phi &- \\sin \\phi &0\\\\ \\sin \\phi  &  \\cos \\phi &0\\\\ 0 &0 &1 \\end{bmatrix} \\\\              \n",
    "\\end{array}\n",
    "\\end{equation}\n",
    "\n",
    "7. Rotations can be combined by matrix multiplication and the rotation sequence depends on the order in which they are applied. \n"
   ]
  },
  {
   "cell_type": "markdown",
   "metadata": {
    "solution2": "shown",
    "solution2_first": true
   },
   "source": [
    "### Exercise  1\n",
    "Write a function to return the rotation matrix corresponding to a rotation about an principal axis (x,y, or z) and an angle specified by the user. Use the function to find the rotation matrix corresponding to a rotation of $\\pi/3$ about the z axis."
   ]
  },
  {
   "cell_type": "code",
   "execution_count": 1,
   "metadata": {
    "hide_input": true,
    "solution2": "shown"
   },
   "outputs": [
    {
     "data": {
      "text/latex": [
       "$\\displaystyle \\left[\\begin{matrix}\\frac{1}{2} & - \\frac{\\sqrt{3}}{2} & 0\\\\\\frac{\\sqrt{3}}{2} & \\frac{1}{2} & 0\\\\0 & 0 & 1\\end{matrix}\\right]$"
      ],
      "text/plain": [
       "Matrix([\n",
       "[      1/2, -sqrt(3)/2, 0],\n",
       "[sqrt(3)/2,        1/2, 0],\n",
       "[        0,          0, 1]])"
      ]
     },
     "execution_count": 1,
     "metadata": {},
     "output_type": "execute_result"
    }
   ],
   "source": [
    "import sympy\n",
    "import numpy as np\n",
    "\n",
    "def rotsym(a,b):\n",
    "    c=sympy.cos(b)\n",
    "    s=sympy.sin(b)\n",
    "    if a==\"z\":\n",
    "        R = sympy.Matrix([[c,-s,0],\n",
    "        [s,c,0],\n",
    "        [0,0,1]])\n",
    "    if a==\"x\":\n",
    "        R = sympy.Matrix([[1,0,0],\n",
    "        [0,c,-s],\n",
    "        [0,s,c]])\n",
    "    if a==\"y\":\n",
    "        R = sympy.Matrix([[c,0,s],\n",
    "        [0,1,0],\n",
    "        [-s,0,c]])\n",
    "    return(R)\n",
    "\n",
    "#test the function\n",
    "R = rotsym('z',sympy.pi/3)\n",
    "R"
   ]
  },
  {
   "cell_type": "markdown",
   "metadata": {
    "solution2": "shown",
    "solution2_first": true
   },
   "source": [
    "### Exercise 2\n",
    "Roll $(\\phi)$, pitch$(\\theta)$, yaw$(\\psi)$ axis convention  is commonly used to parameterize 3D rotations using 3 angles (also known as ZYX Euler angles). This corresponds to the following sequence of rotations starting at a base frame $\\{W\\}$  ending on a follower frame $\\{O\\}$. Rotate $\\psi$ about z axis of frame $\\{W\\}$ to reach frame $\\{O_1\\}$, then rotate $\\theta$ about y axis of frame $\\{O_1\\}$ to reach frame $\\{O_2\\}$, then rotate $\\phi$ about x axis of frame $\\{O_2\\}$ to reach frame $\\{O\\}$. \n",
    "\n",
    "<img src=\"img/rpy.png\" width=\"200\" height=\"200\" /> \n",
    "<div style=\"text-align: center\">![rpy](./img/rpy.png){width=200px}</div>\n",
    "\n",
    "The following code evaluates the answer using the *rotsym* function.\n"
   ]
  },
  {
   "cell_type": "code",
   "execution_count": 2,
   "metadata": {
    "hide_input": false,
    "scrolled": true,
    "solution2": "shown"
   },
   "outputs": [
    {
     "data": {
      "text/latex": [
       "$\\displaystyle \\left[\\begin{matrix}\\cos{\\left(θ \\right)} \\cos{\\left(ψ \\right)} & \\sin{\\left(θ \\right)} \\sin{\\left(ϕ \\right)} \\cos{\\left(ψ \\right)} - \\sin{\\left(ψ \\right)} \\cos{\\left(ϕ \\right)} & \\sin{\\left(θ \\right)} \\cos{\\left(ψ \\right)} \\cos{\\left(ϕ \\right)} + \\sin{\\left(ψ \\right)} \\sin{\\left(ϕ \\right)}\\\\\\sin{\\left(ψ \\right)} \\cos{\\left(θ \\right)} & \\sin{\\left(θ \\right)} \\sin{\\left(ψ \\right)} \\sin{\\left(ϕ \\right)} + \\cos{\\left(ψ \\right)} \\cos{\\left(ϕ \\right)} & \\sin{\\left(θ \\right)} \\sin{\\left(ψ \\right)} \\cos{\\left(ϕ \\right)} - \\sin{\\left(ϕ \\right)} \\cos{\\left(ψ \\right)}\\\\- \\sin{\\left(θ \\right)} & \\sin{\\left(ϕ \\right)} \\cos{\\left(θ \\right)} & \\cos{\\left(θ \\right)} \\cos{\\left(ϕ \\right)}\\end{matrix}\\right]$"
      ],
      "text/plain": [
       "Matrix([\n",
       "[cos(θ)*cos(ψ), sin(θ)*sin(ϕ)*cos(ψ) - sin(ψ)*cos(ϕ), sin(θ)*cos(ψ)*cos(ϕ) + sin(ψ)*sin(ϕ)],\n",
       "[sin(ψ)*cos(θ), sin(θ)*sin(ψ)*sin(ϕ) + cos(ψ)*cos(ϕ), sin(θ)*sin(ψ)*cos(ϕ) - sin(ϕ)*cos(ψ)],\n",
       "[      -sin(θ),                        sin(ϕ)*cos(θ),                        cos(θ)*cos(ϕ)]])"
      ]
     },
     "execution_count": 2,
     "metadata": {},
     "output_type": "execute_result"
    }
   ],
   "source": [
    "θ = sympy.Symbol('θ')\n",
    "ϕ = sympy.Symbol('ϕ')\n",
    "ψ = sympy.Symbol('ψ')\n",
    "R=rotsym(\"z\",ψ)*rotsym(\"y\",θ)*rotsym(\"x\",ϕ)\n",
    "R"
   ]
  },
  {
   "cell_type": "markdown",
   "metadata": {
    "hide_input": true,
    "nbsphinx": "hidden"
   },
   "source": [
    "We can visualize the frames using the following methods:"
   ]
  },
  {
   "cell_type": "code",
   "execution_count": 3,
   "metadata": {
    "hide_input": true,
    "nbsphinx": "hidden"
   },
   "outputs": [],
   "source": [
    "%run topic_1_funcs.py\n"
   ]
  },
  {
   "cell_type": "code",
   "execution_count": 1,
   "metadata": {
    "hide_input": false,
    "nbsphinx": "hidden"
   },
   "outputs": [
    {
     "ename": "NameError",
     "evalue": "name 'p3' is not defined",
     "output_type": "error",
     "traceback": [
      "\u001b[1;31m---------------------------------------------------------------------------\u001b[0m",
      "\u001b[1;31mNameError\u001b[0m                                 Traceback (most recent call last)",
      "\u001b[1;32m<ipython-input-1-8fda3d4aa3ef>\u001b[0m in \u001b[0;36m<module>\u001b[1;34m\u001b[0m\n\u001b[0;32m      1\u001b[0m \u001b[1;32mimport\u001b[0m \u001b[0mipywidgets\u001b[0m \u001b[1;32mas\u001b[0m \u001b[0mwidget\u001b[0m\u001b[1;33m\u001b[0m\u001b[1;33m\u001b[0m\u001b[0m\n\u001b[0;32m      2\u001b[0m \u001b[1;33m\u001b[0m\u001b[0m\n\u001b[1;32m----> 3\u001b[1;33m \u001b[0mfigure2\u001b[0m\u001b[1;33m=\u001b[0m\u001b[0mp3\u001b[0m\u001b[1;33m.\u001b[0m\u001b[0mfigure\u001b[0m\u001b[1;33m(\u001b[0m\u001b[1;33m)\u001b[0m      \u001b[1;31m#define new figure\u001b[0m\u001b[1;33m\u001b[0m\u001b[1;33m\u001b[0m\u001b[0m\n\u001b[0m\u001b[0;32m      4\u001b[0m \u001b[0mfigure2\u001b[0m\u001b[1;33m.\u001b[0m\u001b[0manimation\u001b[0m \u001b[1;33m=\u001b[0m \u001b[1;36m0\u001b[0m    \u001b[1;31m# disable interpolation\u001b[0m\u001b[1;33m\u001b[0m\u001b[1;33m\u001b[0m\u001b[0m\n\u001b[0;32m      5\u001b[0m \u001b[0mp3\u001b[0m\u001b[1;33m.\u001b[0m\u001b[0mclear\u001b[0m\u001b[1;33m(\u001b[0m\u001b[1;33m)\u001b[0m               \u001b[1;31m# clear any content\u001b[0m\u001b[1;33m\u001b[0m\u001b[1;33m\u001b[0m\u001b[0m\n",
      "\u001b[1;31mNameError\u001b[0m: name 'p3' is not defined"
     ]
    }
   ],
   "source": [
    "import ipywidgets as widget\n",
    "\n",
    "figure2=p3.figure()      #define new figure\n",
    "figure2.animation = 0    # disable interpolation\n",
    "p3.clear()               # clear any content\n",
    "handle=init_vector(show=True) #initialize a frame this can be called to initialize new frame, show displays the figure in this cell or the previous instanc gets updated\n",
    "\n",
    "def dash1(roll,pitch,yaw):\n",
    "    p = np.array([0.0,0.0,0.0])\n",
    "    R= Rot.from_euler('xyz', [roll,pitch,yaw], degrees=True)\n",
    "    ipv_setframe(p,R,handle)  #this function updates the frame\n",
    "\n",
    "i=widget.interact(dash1,roll=widget.FloatSlider(min=0, max=60, step=1),pitch=widget.FloatSlider(min=0, max=60, step=1),yaw=widget.FloatSlider(min=0, max=60, step=1))"
   ]
  },
  {
   "cell_type": "markdown",
   "metadata": {},
   "source": [
    "### Exercise 3\n",
    "\n",
    "Show that $\\mathbf{R}_{a(t+\\delta t)}^{a(t)}=\\mathbf{I}+\\boldsymbol{\\delta\\theta}_{\\times}$, where $\\boldsymbol{\\delta\\theta}=(\\delta\\theta_x,~\\delta\\theta_y,~\\delta\\theta_z)^T$ denotes infinitesimal rotations about $x,~y$ and $z$ axis which occurs during $\\delta t$.\n",
    "\n",
    "<img src=\"img/eqn2.png\" width=\"500\" /> \n",
    "<div style=\"text-align: center\">![eqn2](./img/eqn2.png){width=500px}</div>"
   ]
  },
  {
   "cell_type": "markdown",
   "metadata": {},
   "source": [
    "### Exercise 4\n",
    "Show that $\\dot{\\mathbf{R}}_b^a=\\mathbf{R}_b^a\\mathbf{\\Omega}_{ab}^b$\n",
    "\n",
    "<img src=\"img/eqn3.png\" width=\"500\" /> \n",
    "<div style=\"text-align: center\">![eqn3](./img/eqn3.png){width=500px}</div>"
   ]
  },
  {
   "cell_type": "markdown",
   "metadata": {},
   "source": [
    "## Useful Vector Matrix Identities\n",
    "The following is a summary of relationships related to vectors and matrix differentiation which are important in the development that follows:\n",
    "\n",
    "Expressing vector in a different frame\n",
    "\\begin{equation}\n",
    "\\begin{array}{c l}\n",
    "\\mathbf{p}^a_{ab} &= \\mathbf{R}^a_b\\mathbf{p}^b_{ab}\\\\\n",
    "\\end{array}\n",
    "\\end{equation}\n",
    "\n",
    "Vector addition\n",
    "\\begin{equation}\n",
    "\\begin{array}{c l}\n",
    "\\mathbf{p}^a_{ac} &=\\mathbf{p}^a_{ab}+\\mathbf{p}^a_{bc}\\\\\n",
    "&=\\mathbf{p}^a_{ab}+\\mathbf{R}^a_b\\mathbf{p}^b_{bc}\\\\\n",
    "\\end{array}\n",
    "\\end{equation}\n",
    "\n",
    "Vector substraction\n",
    "\\begin{equation}\n",
    "\\begin{array}{c l}\n",
    "\\mathbf{p}^a_{ab} &= - \\mathbf{p}^a_{ba} = -\\mathbf{R}^a_b\\mathbf{p}^b_{ba}\\\\\n",
    "\\end{array}\n",
    "\\end{equation}\n",
    "\n",
    "Skew symmetric representation\n",
    "\\begin{equation}\n",
    "\\boldsymbol{\\omega} \\times \\mathbf{r} = [\\boldsymbol{\\omega}]_{\\times}\\mathbf{r} = -[\\mathbf{r}]_{\\times}\\boldsymbol{\\omega}\n",
    "\\end{equation}\n",
    "\n",
    "Rotation kinematics\n",
    "\\begin{equation}\n",
    "\\dot{\\mathbf{R}_b^w} = ~\\mathbf{R}_b^w[\\boldsymbol{\\omega}_{wb}^b]_{\\times} \n",
    "\\end{equation}\n",
    "\n",
    "Expressing angular velocity tensor in a different frame:\n",
    "\\begin{equation}\n",
    "\\boldsymbol{\\Omega}^w_{wb}= \\mathbf{R}^w_b\\boldsymbol{\\Omega}^b_{wb}{\\mathbf{R}^w_b}^T\n",
    "\\end{equation}\n",
    "\n",
    "Matrix inversion/ transpose lemma\n",
    "\\begin{equation}\n",
    "{\\boldsymbol{\\Omega}^w_{wb}}^T= ({\\mathbf{R}^w_b\\boldsymbol{\\Omega}^b_{wb}{\\mathbf{R}^b_w}})^T = {\\mathbf{R}^b_w}^T{\\boldsymbol{\\Omega}^b_{wb}}^T{\\mathbf{R}^w_b}^T  = {\\mathbf{R}^w_b}{\\boldsymbol{\\Omega}^b_{bw}}{\\mathbf{R}^b_w}  =\\boldsymbol{\\Omega}^w_{bw}\n",
    "\\end{equation}\n",
    "\n"
   ]
  },
  {
   "cell_type": "markdown",
   "metadata": {},
   "source": [
    "### Exercise 5\n",
    "Derive the Euler equation of motion for a rigid body with Inertia $\\mathbf{I}^b$ expressed in body fixed frame $\\{B\\}$.\n",
    "\n",
    "\\begin{equation*}\n",
    "\\boldsymbol{\\Gamma}^b_{ib}= \\mathbf{I}^b \\boldsymbol{\\alpha}_{ib}^b+\\boldsymbol{\\omega}_{ib}^b\\times  \\mathbf{I}^b\\boldsymbol{\\omega}_{ib}^b\n",
    "\\end{equation*}\n"
   ]
  },
  {
   "cell_type": "markdown",
   "metadata": {},
   "source": [
    "<img src=\"img/eqn1.png\" width=\"500\" /> \n",
    "<div style=\"text-align: center\">![eqn1](./img/eqn1.png){width=500px}</div>\n"
   ]
  }
 ],
 "metadata": {
  "celltoolbar": "Edit Metadata",
  "kernelspec": {
   "display_name": "Python 3",
   "language": "python",
   "name": "python3"
  },
  "language_info": {
   "codemirror_mode": {
    "name": "ipython",
    "version": 3
   },
   "file_extension": ".py",
   "mimetype": "text/x-python",
   "name": "python",
   "nbconvert_exporter": "python",
   "pygments_lexer": "ipython3",
   "version": "3.7.3"
  },
  "toc": {
   "base_numbering": 1,
   "nav_menu": {},
   "number_sections": true,
   "sideBar": true,
   "skip_h1_title": false,
   "title_cell": "Table of Contents",
   "title_sidebar": "Contents",
   "toc_cell": false,
   "toc_position": {},
   "toc_section_display": true,
   "toc_window_display": true
  }
 },
 "nbformat": 4,
 "nbformat_minor": 4
}
